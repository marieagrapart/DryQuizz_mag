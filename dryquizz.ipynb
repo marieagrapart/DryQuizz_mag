{
 "cells": [
  {
   "cell_type": "code",
   "execution_count": 1,
   "metadata": {},
   "outputs": [],
   "source": [
    "# Créer un dico de question\n",
    "\n",
    "quizz = { \n",
    "    \"question1\" : { \n",
    "        \"question\" : \"1=1\",\n",
    "        \"answer\" : \"2\" \n",
    "    } ,\n",
    "    \"question2\" : {\n",
    "        \"question\" : \"1+3\",\n",
    "        \"answer\" : \"4\"\n",
    "    } ,\n",
    "    \"question3\" : { \n",
    "        \"question\" : \"de quelle couleur est le chevel blanc d'Henri 4?\",\n",
    "        \"answer\" : \"blanc\"\n",
    "    }\n",
    "\n",
    "}\n"
   ]
  },
  {
   "cell_type": "code",
   "execution_count": 15,
   "metadata": {},
   "outputs": [],
   "source": [
    "def dryquizz(dictquizz):\n",
    "\n",
    "    for val in dictquizz.values():    \n",
    "        question = val['question']\n",
    "        answer = val['answer']\n",
    "        nb_de_chances = 3\n",
    "        has_found_answer=False\n",
    "\n",
    "        while nb_de_chances > 0 and not has_found_answer:\n",
    "            tentative = input(question)\n",
    "            if tentative == answer:\n",
    "                print(\"GOOD, YOU WIN\")\n",
    "                has_found_answer = True\n",
    "            else:\n",
    "                nb_de_chances -=1\n",
    "        if nb_de_chances ==0:\n",
    "            print(\"too bad, you looooooooose\")"
   ]
  },
  {
   "cell_type": "code",
   "execution_count": 16,
   "metadata": {},
   "outputs": [
    {
     "name": "stdout",
     "output_type": "stream",
     "text": [
      "GOOD, YOU WIN\n",
      "GOOD, YOU WIN\n",
      "too bad, you looooooooose\n"
     ]
    }
   ],
   "source": [
    "dryquizz(quizz)"
   ]
  }
 ],
 "metadata": {
  "kernelspec": {
   "display_name": "Python 3.9.12 ('base')",
   "language": "python",
   "name": "python3"
  },
  "language_info": {
   "codemirror_mode": {
    "name": "ipython",
    "version": 3
   },
   "file_extension": ".py",
   "mimetype": "text/x-python",
   "name": "python",
   "nbconvert_exporter": "python",
   "pygments_lexer": "ipython3",
   "version": "3.9.12"
  },
  "orig_nbformat": 4,
  "vscode": {
   "interpreter": {
    "hash": "a4d33f735b5bc1716c8fc72440308505f4263435be6abde8d6dd6675ac56206b"
   }
  }
 },
 "nbformat": 4,
 "nbformat_minor": 2
}
